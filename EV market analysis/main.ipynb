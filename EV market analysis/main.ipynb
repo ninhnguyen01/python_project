{
 "cells": [
  {
   "cell_type": "code",
   "execution_count": 18,
   "id": "04417c7f",
   "metadata": {},
   "outputs": [],
   "source": [
    "# import package\n",
    "import polars as pl\n",
    "import plotly.express as px\n",
    "import warnings\n",
    "warnings.filterwarnings('ignore')\n",
    "\n",
    "\n"
   ]
  },
  {
   "cell_type": "code",
   "execution_count": 19,
   "id": "1eba8e78",
   "metadata": {},
   "outputs": [
    {
     "data": {
      "text/html": [
       "<div><style>\n",
       ".dataframe > thead > tr,\n",
       ".dataframe > tbody > tr {\n",
       "  text-align: right;\n",
       "  white-space: pre-wrap;\n",
       "}\n",
       "</style>\n",
       "<small>shape: (5, 8)</small><table border=\"1\" class=\"dataframe\"><thead><tr><th>brand</th><th>model</th><th>style</th><th>accel</th><th>top_speed</th><th>range</th><th>charge_rate</th><th>price</th></tr><tr><td>str</td><td>str</td><td>str</td><td>f64</td><td>f64</td><td>f64</td><td>f64</td><td>i64</td></tr></thead><tbody><tr><td>&quot;SEAT&quot;</td><td>&quot;Mii Electric&quot;</td><td>&quot;Hatchback&quot;</td><td>12.3</td><td>130.0</td><td>195.0</td><td>170.0</td><td>20129</td></tr><tr><td>&quot;Smart&quot;</td><td>&quot;EQ fortwo coupe&quot;</td><td>&quot;Hatchback&quot;</td><td>11.6</td><td>130.0</td><td>100.0</td><td>null</td><td>21387</td></tr><tr><td>&quot;Volkswagen&quot;</td><td>&quot;e-Up!&quot;</td><td>&quot;hatchback&quot;</td><td>11.9</td><td>130.0</td><td>195.0</td><td>170.0</td><td>21421</td></tr><tr><td>&quot;Smart&quot;</td><td>&quot;EQ forfour&quot;</td><td>&quot;hatchback&quot;</td><td>12.7</td><td>130.0</td><td>95.0</td><td>null</td><td>22030</td></tr><tr><td>&quot;Skoda&quot;</td><td>&quot;CITIGOe iV&quot;</td><td>&quot;Hatchback&quot;</td><td>12.3</td><td>130.0</td><td>195.0</td><td>170.0</td><td>24534</td></tr></tbody></table></div>"
      ],
      "text/plain": [
       "shape: (5, 8)\n",
       "┌────────────┬─────────────────┬───────────┬───────┬───────────┬───────┬─────────────┬───────┐\n",
       "│ brand      ┆ model           ┆ style     ┆ accel ┆ top_speed ┆ range ┆ charge_rate ┆ price │\n",
       "│ ---        ┆ ---             ┆ ---       ┆ ---   ┆ ---       ┆ ---   ┆ ---         ┆ ---   │\n",
       "│ str        ┆ str             ┆ str       ┆ f64   ┆ f64       ┆ f64   ┆ f64         ┆ i64   │\n",
       "╞════════════╪═════════════════╪═══════════╪═══════╪═══════════╪═══════╪═════════════╪═══════╡\n",
       "│ SEAT       ┆ Mii Electric    ┆ Hatchback ┆ 12.3  ┆ 130.0     ┆ 195.0 ┆ 170.0       ┆ 20129 │\n",
       "│ Smart      ┆ EQ fortwo coupe ┆ Hatchback ┆ 11.6  ┆ 130.0     ┆ 100.0 ┆ null        ┆ 21387 │\n",
       "│ Volkswagen ┆ e-Up!           ┆ hatchback ┆ 11.9  ┆ 130.0     ┆ 195.0 ┆ 170.0       ┆ 21421 │\n",
       "│ Smart      ┆ EQ forfour      ┆ hatchback ┆ 12.7  ┆ 130.0     ┆ 95.0  ┆ null        ┆ 22030 │\n",
       "│ Skoda      ┆ CITIGOe iV      ┆ Hatchback ┆ 12.3  ┆ 130.0     ┆ 195.0 ┆ 170.0       ┆ 24534 │\n",
       "└────────────┴─────────────────┴───────────┴───────┴───────────┴───────┴─────────────┴───────┘"
      ]
     },
     "execution_count": 19,
     "metadata": {},
     "output_type": "execute_result"
    }
   ],
   "source": [
    "ev_vehicle = pl.read_csv(\"electric_vehicles.csv\")\n",
    "ev_vehicle.head()"
   ]
  },
  {
   "cell_type": "code",
   "execution_count": 20,
   "id": "b4a7ca7d",
   "metadata": {},
   "outputs": [
    {
     "data": {
      "text/plain": [
       "(106, 8)"
      ]
     },
     "execution_count": 20,
     "metadata": {},
     "output_type": "execute_result"
    }
   ],
   "source": [
    "ev_vehicle.shape"
   ]
  },
  {
   "cell_type": "code",
   "execution_count": 21,
   "id": "e458cc2d",
   "metadata": {},
   "outputs": [
    {
     "data": {
      "text/plain": [
       "['brand',\n",
       " 'model',\n",
       " 'style',\n",
       " 'accel',\n",
       " 'top_speed',\n",
       " 'range',\n",
       " 'charge_rate',\n",
       " 'price']"
      ]
     },
     "execution_count": 21,
     "metadata": {},
     "output_type": "execute_result"
    }
   ],
   "source": [
    "ev_vehicle.columns"
   ]
  },
  {
   "cell_type": "code",
   "execution_count": 22,
   "id": "68550876",
   "metadata": {},
   "outputs": [
    {
     "data": {
      "text/plain": [
       "Schema([('brand', String),\n",
       "        ('model', String),\n",
       "        ('style', String),\n",
       "        ('accel', Float64),\n",
       "        ('top_speed', Float64),\n",
       "        ('range', Float64),\n",
       "        ('charge_rate', Float64),\n",
       "        ('price', Int64)])"
      ]
     },
     "execution_count": 22,
     "metadata": {},
     "output_type": "execute_result"
    }
   ],
   "source": [
    "ev_vehicle.schema"
   ]
  },
  {
   "cell_type": "code",
   "execution_count": 23,
   "id": "d31db2c4",
   "metadata": {},
   "outputs": [
    {
     "name": "stdout",
     "output_type": "stream",
     "text": [
      "Rows: 106\n",
      "Columns: 8\n",
      "$ brand       <str> 'SEAT', 'Smart', 'Volkswagen', 'Smart', 'Skoda', 'Smart', 'Renault', 'Sono', 'Opel', 'Opel'\n",
      "$ model       <str> 'Mii Electric', 'EQ fortwo coupe', 'e-Up!', 'EQ forfour', 'CITIGOe iV', 'EQ fortwo cabrio', 'Twingo ZE', 'Sion', 'Corsa-e', 'Corsa-e'\n",
      "$ style       <str> 'Hatchback', 'Hatchback', 'hatchback', 'hatchback', 'Hatchback', 'Cabrio', 'Hatchback', 'Hatchback', 'hatchback', 'hatchback'\n",
      "$ accel       <f64> 12.3, 11.6, 11.9, 12.7, 12.3, 11.9, 12.6, 9.0, 8.1, 8.1\n",
      "$ top_speed   <f64> 130.0, 130.0, 130.0, 130.0, 130.0, 130.0, 135.0, 140.0, 150.0, 150.0\n",
      "$ range       <f64> 195.0, 100.0, 195.0, 95.0, 195.0, 95.0, 130.0, 225.0, 275.0, 275.0\n",
      "$ charge_rate <f64> 170.0, None, 170.0, None, 170.0, None, None, 270.0, 420.0, 420.0\n",
      "$ price       <i64> 20129, 21387, 21421, 22030, 24534, 24565, 24790, 25500, 29146, 29146\n",
      "\n"
     ]
    }
   ],
   "source": [
    "ev_vehicle.glimpse()"
   ]
  },
  {
   "cell_type": "code",
   "execution_count": 24,
   "id": "a31c1cce",
   "metadata": {},
   "outputs": [
    {
     "data": {
      "text/html": [
       "<div><style>\n",
       ".dataframe > thead > tr,\n",
       ".dataframe > tbody > tr {\n",
       "  text-align: right;\n",
       "  white-space: pre-wrap;\n",
       "}\n",
       "</style>\n",
       "<small>shape: (106, 8)</small><table border=\"1\" class=\"dataframe\"><thead><tr><th>brand</th><th>model</th><th>style</th><th>accel</th><th>top_speed</th><th>range</th><th>charge_rate</th><th>price</th></tr><tr><td>str</td><td>str</td><td>str</td><td>f64</td><td>f64</td><td>f64</td><td>f64</td><td>i64</td></tr></thead><tbody><tr><td>&quot;Aiways&quot;</td><td>&quot;U5&quot;</td><td>&quot;suv&quot;</td><td>9.0</td><td>150.0</td><td>335.0</td><td>350.0</td><td>36057</td></tr><tr><td>&quot;Audi&quot;</td><td>&quot;Q4 e-tron&quot;</td><td>&quot;SUV&quot;</td><td>6.3</td><td>180.0</td><td>400.0</td><td>540.0</td><td>55000</td></tr><tr><td>&quot;Audi&quot;</td><td>&quot;Q4 Sportback e-tron&quot;</td><td>&quot;SUV&quot;</td><td>6.3</td><td>180.0</td><td>410.0</td><td>550.0</td><td>57500</td></tr><tr><td>&quot;Audi&quot;</td><td>&quot;e-tron 50 quattro&quot;</td><td>&quot;suv&quot;</td><td>6.8</td><td>190.0</td><td>280.0</td><td>450.0</td><td>67358</td></tr><tr><td>&quot;Audi&quot;</td><td>&quot;e-tron 50 quattro&quot;</td><td>&quot;suv&quot;</td><td>6.8</td><td>190.0</td><td>280.0</td><td>450.0</td><td>67358</td></tr><tr><td>&hellip;</td><td>&hellip;</td><td>&hellip;</td><td>&hellip;</td><td>&hellip;</td><td>&hellip;</td><td>&hellip;</td><td>&hellip;</td></tr><tr><td>&quot;Volkswagen&quot;</td><td>&quot;ID.3 Pro Performance&quot;</td><td>&quot;Hatchback&quot;</td><td>7.3</td><td>160.0</td><td>340.0</td><td>470.0</td><td>35575</td></tr><tr><td>&quot;Volkswagen&quot;</td><td>&quot;ID.3 1st&quot;</td><td>&quot;hatchback&quot;</td><td>7.3</td><td>160.0</td><td>340.0</td><td>470.0</td><td>38987</td></tr><tr><td>&quot;Volkswagen&quot;</td><td>&quot;ID.3 Pro S&quot;</td><td>&quot;hatchback&quot;</td><td>7.9</td><td>160.0</td><td>440.0</td><td>590.0</td><td>40936</td></tr><tr><td>&quot;Volkswagen&quot;</td><td>&quot;ID.4&quot;</td><td>&quot;SUV&quot;</td><td>7.5</td><td>160.0</td><td>420.0</td><td>560.0</td><td>45000</td></tr><tr><td>&quot;Volvo&quot;</td><td>&quot;XC40 P8 AWD Recharge&quot;</td><td>&quot;SUV&quot;</td><td>4.9</td><td>180.0</td><td>375.0</td><td>470.0</td><td>60437</td></tr></tbody></table></div>"
      ],
      "text/plain": [
       "shape: (106, 8)\n",
       "┌────────────┬──────────────────────┬───────────┬───────┬───────────┬───────┬─────────────┬───────┐\n",
       "│ brand      ┆ model                ┆ style     ┆ accel ┆ top_speed ┆ range ┆ charge_rate ┆ price │\n",
       "│ ---        ┆ ---                  ┆ ---       ┆ ---   ┆ ---       ┆ ---   ┆ ---         ┆ ---   │\n",
       "│ str        ┆ str                  ┆ str       ┆ f64   ┆ f64       ┆ f64   ┆ f64         ┆ i64   │\n",
       "╞════════════╪══════════════════════╪═══════════╪═══════╪═══════════╪═══════╪═════════════╪═══════╡\n",
       "│ Aiways     ┆ U5                   ┆ suv       ┆ 9.0   ┆ 150.0     ┆ 335.0 ┆ 350.0       ┆ 36057 │\n",
       "│ Audi       ┆ Q4 e-tron            ┆ SUV       ┆ 6.3   ┆ 180.0     ┆ 400.0 ┆ 540.0       ┆ 55000 │\n",
       "│ Audi       ┆ Q4 Sportback e-tron  ┆ SUV       ┆ 6.3   ┆ 180.0     ┆ 410.0 ┆ 550.0       ┆ 57500 │\n",
       "│ Audi       ┆ e-tron 50 quattro    ┆ suv       ┆ 6.8   ┆ 190.0     ┆ 280.0 ┆ 450.0       ┆ 67358 │\n",
       "│ Audi       ┆ e-tron 50 quattro    ┆ suv       ┆ 6.8   ┆ 190.0     ┆ 280.0 ┆ 450.0       ┆ 67358 │\n",
       "│ …          ┆ …                    ┆ …         ┆ …     ┆ …         ┆ …     ┆ …           ┆ …     │\n",
       "│ Volkswagen ┆ ID.3 Pro Performance ┆ Hatchback ┆ 7.3   ┆ 160.0     ┆ 340.0 ┆ 470.0       ┆ 35575 │\n",
       "│ Volkswagen ┆ ID.3 1st             ┆ hatchback ┆ 7.3   ┆ 160.0     ┆ 340.0 ┆ 470.0       ┆ 38987 │\n",
       "│ Volkswagen ┆ ID.3 Pro S           ┆ hatchback ┆ 7.9   ┆ 160.0     ┆ 440.0 ┆ 590.0       ┆ 40936 │\n",
       "│ Volkswagen ┆ ID.4                 ┆ SUV       ┆ 7.5   ┆ 160.0     ┆ 420.0 ┆ 560.0       ┆ 45000 │\n",
       "│ Volvo      ┆ XC40 P8 AWD Recharge ┆ SUV       ┆ 4.9   ┆ 180.0     ┆ 375.0 ┆ 470.0       ┆ 60437 │\n",
       "└────────────┴──────────────────────┴───────────┴───────┴───────────┴───────┴─────────────┴───────┘"
      ]
     },
     "execution_count": 24,
     "metadata": {},
     "output_type": "execute_result"
    }
   ],
   "source": [
    "ev_vehicle.sort(\"brand\")"
   ]
  },
  {
   "cell_type": "code",
   "execution_count": 25,
   "id": "dbced904",
   "metadata": {},
   "outputs": [
    {
     "data": {
      "text/html": [
       "<div><style>\n",
       ".dataframe > thead > tr,\n",
       ".dataframe > tbody > tr {\n",
       "  text-align: right;\n",
       "  white-space: pre-wrap;\n",
       "}\n",
       "</style>\n",
       "<small>shape: (106, 8)</small><table border=\"1\" class=\"dataframe\"><thead><tr><th>brand</th><th>model</th><th>style</th><th>accel</th><th>top_speed</th><th>range</th><th>charge_rate</th><th>price</th></tr><tr><td>str</td><td>str</td><td>str</td><td>f64</td><td>f64</td><td>f64</td><td>f64</td><td>i64</td></tr></thead><tbody><tr><td>&quot;Tesla&quot;</td><td>&quot;Roadster&quot;</td><td>&quot;Cabrio&quot;</td><td>2.1</td><td>410.0</td><td>970.0</td><td>920.0</td><td>215000</td></tr><tr><td>&quot;Porsche&quot;</td><td>&quot;Taycan Turbo S&quot;</td><td>&quot;sedan&quot;</td><td>2.8</td><td>260.0</td><td>375.0</td><td>780.0</td><td>180781</td></tr><tr><td>&quot;Porsche&quot;</td><td>&quot;Taycan Cross Turismo&quot;</td><td>&quot;station&quot;</td><td>3.5</td><td>250.0</td><td>385.0</td><td>770.0</td><td>150000</td></tr><tr><td>&quot;Lightyear&quot;</td><td>&quot;One&quot;</td><td>&quot;Liftback&quot;</td><td>10.0</td><td>150.0</td><td>575.0</td><td>540.0</td><td>149000</td></tr><tr><td>&quot;Porsche&quot;</td><td>&quot;Taycan Turbo&quot;</td><td>&quot;Sedan&quot;</td><td>3.2</td><td>260.0</td><td>390.0</td><td>810.0</td><td>148301</td></tr><tr><td>&hellip;</td><td>&hellip;</td><td>&hellip;</td><td>&hellip;</td><td>&hellip;</td><td>&hellip;</td><td>&hellip;</td><td>&hellip;</td></tr><tr><td>&quot;Skoda&quot;</td><td>&quot;CITIGOe iV&quot;</td><td>&quot;Hatchback&quot;</td><td>12.3</td><td>130.0</td><td>195.0</td><td>170.0</td><td>24534</td></tr><tr><td>&quot;Smart&quot;</td><td>&quot;EQ forfour&quot;</td><td>&quot;hatchback&quot;</td><td>12.7</td><td>130.0</td><td>95.0</td><td>null</td><td>22030</td></tr><tr><td>&quot;Volkswagen&quot;</td><td>&quot;e-Up!&quot;</td><td>&quot;hatchback&quot;</td><td>11.9</td><td>130.0</td><td>195.0</td><td>170.0</td><td>21421</td></tr><tr><td>&quot;Smart&quot;</td><td>&quot;EQ fortwo coupe&quot;</td><td>&quot;Hatchback&quot;</td><td>11.6</td><td>130.0</td><td>100.0</td><td>null</td><td>21387</td></tr><tr><td>&quot;SEAT&quot;</td><td>&quot;Mii Electric&quot;</td><td>&quot;Hatchback&quot;</td><td>12.3</td><td>130.0</td><td>195.0</td><td>170.0</td><td>20129</td></tr></tbody></table></div>"
      ],
      "text/plain": [
       "shape: (106, 8)\n",
       "┌────────────┬──────────────────────┬───────────┬───────┬───────────┬───────┬─────────────┬────────┐\n",
       "│ brand      ┆ model                ┆ style     ┆ accel ┆ top_speed ┆ range ┆ charge_rate ┆ price  │\n",
       "│ ---        ┆ ---                  ┆ ---       ┆ ---   ┆ ---       ┆ ---   ┆ ---         ┆ ---    │\n",
       "│ str        ┆ str                  ┆ str       ┆ f64   ┆ f64       ┆ f64   ┆ f64         ┆ i64    │\n",
       "╞════════════╪══════════════════════╪═══════════╪═══════╪═══════════╪═══════╪═════════════╪════════╡\n",
       "│ Tesla      ┆ Roadster             ┆ Cabrio    ┆ 2.1   ┆ 410.0     ┆ 970.0 ┆ 920.0       ┆ 215000 │\n",
       "│ Porsche    ┆ Taycan Turbo S       ┆ sedan     ┆ 2.8   ┆ 260.0     ┆ 375.0 ┆ 780.0       ┆ 180781 │\n",
       "│ Porsche    ┆ Taycan Cross Turismo ┆ station   ┆ 3.5   ┆ 250.0     ┆ 385.0 ┆ 770.0       ┆ 150000 │\n",
       "│ Lightyear  ┆ One                  ┆ Liftback  ┆ 10.0  ┆ 150.0     ┆ 575.0 ┆ 540.0       ┆ 149000 │\n",
       "│ Porsche    ┆ Taycan Turbo         ┆ Sedan     ┆ 3.2   ┆ 260.0     ┆ 390.0 ┆ 810.0       ┆ 148301 │\n",
       "│ …          ┆ …                    ┆ …         ┆ …     ┆ …         ┆ …     ┆ …           ┆ …      │\n",
       "│ Skoda      ┆ CITIGOe iV           ┆ Hatchback ┆ 12.3  ┆ 130.0     ┆ 195.0 ┆ 170.0       ┆ 24534  │\n",
       "│ Smart      ┆ EQ forfour           ┆ hatchback ┆ 12.7  ┆ 130.0     ┆ 95.0  ┆ null        ┆ 22030  │\n",
       "│ Volkswagen ┆ e-Up!                ┆ hatchback ┆ 11.9  ┆ 130.0     ┆ 195.0 ┆ 170.0       ┆ 21421  │\n",
       "│ Smart      ┆ EQ fortwo coupe      ┆ Hatchback ┆ 11.6  ┆ 130.0     ┆ 100.0 ┆ null        ┆ 21387  │\n",
       "│ SEAT       ┆ Mii Electric         ┆ Hatchback ┆ 12.3  ┆ 130.0     ┆ 195.0 ┆ 170.0       ┆ 20129  │\n",
       "└────────────┴──────────────────────┴───────────┴───────┴───────────┴───────┴─────────────┴────────┘"
      ]
     },
     "execution_count": 25,
     "metadata": {},
     "output_type": "execute_result"
    }
   ],
   "source": [
    "ev_vehicle.sort(\"price\", descending=True)"
   ]
  },
  {
   "cell_type": "code",
   "execution_count": 26,
   "id": "aa37c5cd",
   "metadata": {},
   "outputs": [
    {
     "data": {
      "text/html": [
       "<div><style>\n",
       ".dataframe > thead > tr,\n",
       ".dataframe > tbody > tr {\n",
       "  text-align: right;\n",
       "  white-space: pre-wrap;\n",
       "}\n",
       "</style>\n",
       "<small>shape: (9, 9)</small><table border=\"1\" class=\"dataframe\"><thead><tr><th>statistic</th><th>brand</th><th>model</th><th>style</th><th>accel</th><th>top_speed</th><th>range</th><th>charge_rate</th><th>price</th></tr><tr><td>str</td><td>str</td><td>str</td><td>str</td><td>f64</td><td>f64</td><td>f64</td><td>f64</td><td>f64</td></tr></thead><tbody><tr><td>&quot;count&quot;</td><td>&quot;106&quot;</td><td>&quot;106&quot;</td><td>&quot;106&quot;</td><td>105.0</td><td>106.0</td><td>106.0</td><td>101.0</td><td>106.0</td></tr><tr><td>&quot;null_count&quot;</td><td>&quot;0&quot;</td><td>&quot;0&quot;</td><td>&quot;0&quot;</td><td>1.0</td><td>0.0</td><td>0.0</td><td>5.0</td><td>0.0</td></tr><tr><td>&quot;mean&quot;</td><td>null</td><td>null</td><td>null</td><td>7.355238</td><td>179.028302</td><td>337.924528</td><td>456.138614</td><td>55797.915094</td></tr><tr><td>&quot;std&quot;</td><td>null</td><td>null</td><td>null</td><td>2.990722</td><td>43.053114</td><td>124.523603</td><td>198.262303</td><td>33789.146803</td></tr><tr><td>&quot;min&quot;</td><td>&quot;Aiways&quot;</td><td>&quot;2&quot;</td><td>&quot;Cabrio&quot;</td><td>2.1</td><td>123.0</td><td>95.0</td><td>170.0</td><td>20129.0</td></tr><tr><td>&quot;25%&quot;</td><td>null</td><td>null</td><td>null</td><td>5.1</td><td>150.0</td><td>250.0</td><td>290.0</td><td>34400.0</td></tr><tr><td>&quot;50%&quot;</td><td>null</td><td>null</td><td>null</td><td>7.3</td><td>165.0</td><td>340.0</td><td>440.0</td><td>45000.0</td></tr><tr><td>&quot;75%&quot;</td><td>null</td><td>null</td><td>null</td><td>9.0</td><td>200.0</td><td>400.0</td><td>560.0</td><td>65620.0</td></tr><tr><td>&quot;max&quot;</td><td>&quot;Volvo&quot;</td><td>&quot;iX3&quot;</td><td>&quot;suv&quot;</td><td>22.4</td><td>410.0</td><td>970.0</td><td>940.0</td><td>215000.0</td></tr></tbody></table></div>"
      ],
      "text/plain": [
       "shape: (9, 9)\n",
       "┌────────────┬────────┬───────┬────────┬───┬────────────┬────────────┬─────────────┬──────────────┐\n",
       "│ statistic  ┆ brand  ┆ model ┆ style  ┆ … ┆ top_speed  ┆ range      ┆ charge_rate ┆ price        │\n",
       "│ ---        ┆ ---    ┆ ---   ┆ ---    ┆   ┆ ---        ┆ ---        ┆ ---         ┆ ---          │\n",
       "│ str        ┆ str    ┆ str   ┆ str    ┆   ┆ f64        ┆ f64        ┆ f64         ┆ f64          │\n",
       "╞════════════╪════════╪═══════╪════════╪═══╪════════════╪════════════╪═════════════╪══════════════╡\n",
       "│ count      ┆ 106    ┆ 106   ┆ 106    ┆ … ┆ 106.0      ┆ 106.0      ┆ 101.0       ┆ 106.0        │\n",
       "│ null_count ┆ 0      ┆ 0     ┆ 0      ┆ … ┆ 0.0        ┆ 0.0        ┆ 5.0         ┆ 0.0          │\n",
       "│ mean       ┆ null   ┆ null  ┆ null   ┆ … ┆ 179.028302 ┆ 337.924528 ┆ 456.138614  ┆ 55797.915094 │\n",
       "│ std        ┆ null   ┆ null  ┆ null   ┆ … ┆ 43.053114  ┆ 124.523603 ┆ 198.262303  ┆ 33789.146803 │\n",
       "│ min        ┆ Aiways ┆ 2     ┆ Cabrio ┆ … ┆ 123.0      ┆ 95.0       ┆ 170.0       ┆ 20129.0      │\n",
       "│ 25%        ┆ null   ┆ null  ┆ null   ┆ … ┆ 150.0      ┆ 250.0      ┆ 290.0       ┆ 34400.0      │\n",
       "│ 50%        ┆ null   ┆ null  ┆ null   ┆ … ┆ 165.0      ┆ 340.0      ┆ 440.0       ┆ 45000.0      │\n",
       "│ 75%        ┆ null   ┆ null  ┆ null   ┆ … ┆ 200.0      ┆ 400.0      ┆ 560.0       ┆ 65620.0      │\n",
       "│ max        ┆ Volvo  ┆ iX3   ┆ suv    ┆ … ┆ 410.0      ┆ 970.0      ┆ 940.0       ┆ 215000.0     │\n",
       "└────────────┴────────┴───────┴────────┴───┴────────────┴────────────┴─────────────┴──────────────┘"
      ]
     },
     "execution_count": 26,
     "metadata": {},
     "output_type": "execute_result"
    }
   ],
   "source": [
    "ev_vehicle.describe()"
   ]
  },
  {
   "cell_type": "code",
   "execution_count": 27,
   "id": "8eb5d797",
   "metadata": {},
   "outputs": [
    {
     "data": {
      "text/html": [
       "<div><style>\n",
       ".dataframe > thead > tr,\n",
       ".dataframe > tbody > tr {\n",
       "  text-align: right;\n",
       "  white-space: pre-wrap;\n",
       "}\n",
       "</style>\n",
       "<small>shape: (106, 6)</small><table border=\"1\" class=\"dataframe\"><thead><tr><th>brand</th><th>model</th><th>style</th><th>price</th><th>avg_price</th><th>rank_price</th></tr><tr><td>str</td><td>str</td><td>str</td><td>i64</td><td>f64</td><td>f64</td></tr></thead><tbody><tr><td>&quot;SEAT&quot;</td><td>&quot;MII ELECTRIC&quot;</td><td>&quot;HATCHBACK&quot;</td><td>20129</td><td>55797.92</td><td>1.0</td></tr><tr><td>&quot;Smart&quot;</td><td>&quot;EQ FORTWO COUPE&quot;</td><td>&quot;HATCHBACK&quot;</td><td>21387</td><td>55797.92</td><td>2.0</td></tr><tr><td>&quot;Volkswagen&quot;</td><td>&quot;E-UP!&quot;</td><td>&quot;HATCHBACK&quot;</td><td>21421</td><td>55797.92</td><td>3.0</td></tr><tr><td>&quot;Smart&quot;</td><td>&quot;EQ FORFOUR&quot;</td><td>&quot;HATCHBACK&quot;</td><td>22030</td><td>55797.92</td><td>4.0</td></tr><tr><td>&quot;Skoda&quot;</td><td>&quot;CITIGOE IV&quot;</td><td>&quot;HATCHBACK&quot;</td><td>24534</td><td>55797.92</td><td>5.0</td></tr><tr><td>&hellip;</td><td>&hellip;</td><td>&hellip;</td><td>&hellip;</td><td>&hellip;</td><td>&hellip;</td></tr><tr><td>&quot;Porsche&quot;</td><td>&quot;TAYCAN TURBO&quot;</td><td>&quot;SEDAN&quot;</td><td>148301</td><td>55797.92</td><td>102.0</td></tr><tr><td>&quot;Lightyear&quot;</td><td>&quot;ONE&quot;</td><td>&quot;LIFTBACK&quot;</td><td>149000</td><td>55797.92</td><td>103.0</td></tr><tr><td>&quot;Porsche&quot;</td><td>&quot;TAYCAN CROSS TURISMO&quot;</td><td>&quot;STATION&quot;</td><td>150000</td><td>55797.92</td><td>104.0</td></tr><tr><td>&quot;Porsche&quot;</td><td>&quot;TAYCAN TURBO S&quot;</td><td>&quot;SEDAN&quot;</td><td>180781</td><td>55797.92</td><td>105.0</td></tr><tr><td>&quot;Tesla&quot;</td><td>&quot;ROADSTER&quot;</td><td>&quot;CABRIO&quot;</td><td>215000</td><td>55797.92</td><td>106.0</td></tr></tbody></table></div>"
      ],
      "text/plain": [
       "shape: (106, 6)\n",
       "┌────────────┬──────────────────────┬───────────┬────────┬───────────┬────────────┐\n",
       "│ brand      ┆ model                ┆ style     ┆ price  ┆ avg_price ┆ rank_price │\n",
       "│ ---        ┆ ---                  ┆ ---       ┆ ---    ┆ ---       ┆ ---        │\n",
       "│ str        ┆ str                  ┆ str       ┆ i64    ┆ f64       ┆ f64        │\n",
       "╞════════════╪══════════════════════╪═══════════╪════════╪═══════════╪════════════╡\n",
       "│ SEAT       ┆ MII ELECTRIC         ┆ HATCHBACK ┆ 20129  ┆ 55797.92  ┆ 1.0        │\n",
       "│ Smart      ┆ EQ FORTWO COUPE      ┆ HATCHBACK ┆ 21387  ┆ 55797.92  ┆ 2.0        │\n",
       "│ Volkswagen ┆ E-UP!                ┆ HATCHBACK ┆ 21421  ┆ 55797.92  ┆ 3.0        │\n",
       "│ Smart      ┆ EQ FORFOUR           ┆ HATCHBACK ┆ 22030  ┆ 55797.92  ┆ 4.0        │\n",
       "│ Skoda      ┆ CITIGOE IV           ┆ HATCHBACK ┆ 24534  ┆ 55797.92  ┆ 5.0        │\n",
       "│ …          ┆ …                    ┆ …         ┆ …      ┆ …         ┆ …          │\n",
       "│ Porsche    ┆ TAYCAN TURBO         ┆ SEDAN     ┆ 148301 ┆ 55797.92  ┆ 102.0      │\n",
       "│ Lightyear  ┆ ONE                  ┆ LIFTBACK  ┆ 149000 ┆ 55797.92  ┆ 103.0      │\n",
       "│ Porsche    ┆ TAYCAN CROSS TURISMO ┆ STATION   ┆ 150000 ┆ 55797.92  ┆ 104.0      │\n",
       "│ Porsche    ┆ TAYCAN TURBO S       ┆ SEDAN     ┆ 180781 ┆ 55797.92  ┆ 105.0      │\n",
       "│ Tesla      ┆ ROADSTER             ┆ CABRIO    ┆ 215000 ┆ 55797.92  ┆ 106.0      │\n",
       "└────────────┴──────────────────────┴───────────┴────────┴───────────┴────────────┘"
      ]
     },
     "execution_count": 27,
     "metadata": {},
     "output_type": "execute_result"
    }
   ],
   "source": [
    "ev_vehicle.select(\n",
    "    \"brand\",\n",
    "    pl.col(\"model\").str.to_uppercase(),\n",
    "    pl.col(\"style\").str.to_uppercase(),\n",
    "    \"price\",\n",
    "    pl.col(\"price\").mean().round(2).alias(\"avg_price\"),\n",
    "    pl.col(\"price\").rank().alias(\"rank_price\")\n",
    ")"
   ]
  },
  {
   "cell_type": "code",
   "execution_count": 28,
   "id": "c6b4991f",
   "metadata": {},
   "outputs": [
    {
     "data": {
      "text/html": [
       "<div><style>\n",
       ".dataframe > thead > tr,\n",
       ".dataframe > tbody > tr {\n",
       "  text-align: right;\n",
       "  white-space: pre-wrap;\n",
       "}\n",
       "</style>\n",
       "<small>shape: (5, 8)</small><table border=\"1\" class=\"dataframe\"><thead><tr><th>brand</th><th>model</th><th>style</th><th>accel</th><th>top_speed</th><th>range</th><th>charge_rate</th><th>price</th></tr><tr><td>str</td><td>str</td><td>str</td><td>f64</td><td>f64</td><td>f64</td><td>f64</td><td>i64</td></tr></thead><tbody><tr><td>&quot;Tesla&quot;</td><td>&quot;Cybertruck Single Motor&quot;</td><td>&quot;Pickup&quot;</td><td>7.0</td><td>180.0</td><td>390.0</td><td>740.0</td><td>45000</td></tr><tr><td>&quot;Tesla&quot;</td><td>&quot;Model 3 Standard Range Plus&quot;</td><td>&quot;Sedan&quot;</td><td>5.6</td><td>225.0</td><td>310.0</td><td>650.0</td><td>46380</td></tr><tr><td>&quot;Tesla&quot;</td><td>&quot;Cybertruck Dual Motor&quot;</td><td>&quot;pickup&quot;</td><td>5.0</td><td>190.0</td><td>460.0</td><td>710.0</td><td>55000</td></tr><tr><td>&quot;Tesla&quot;</td><td>&quot;Model 3 Long Range Dual Motor&quot;</td><td>&quot;Sedan&quot;</td><td>4.6</td><td>233.0</td><td>450.0</td><td>940.0</td><td>55480</td></tr><tr><td>&quot;Tesla&quot;</td><td>&quot;Model Y Long Range Dual Motor&quot;</td><td>&quot;SUV&quot;</td><td>5.1</td><td>217.0</td><td>425.0</td><td>930.0</td><td>58620</td></tr></tbody></table></div>"
      ],
      "text/plain": [
       "shape: (5, 8)\n",
       "┌───────┬───────────────────────────────┬────────┬───────┬───────────┬───────┬─────────────┬───────┐\n",
       "│ brand ┆ model                         ┆ style  ┆ accel ┆ top_speed ┆ range ┆ charge_rate ┆ price │\n",
       "│ ---   ┆ ---                           ┆ ---    ┆ ---   ┆ ---       ┆ ---   ┆ ---         ┆ ---   │\n",
       "│ str   ┆ str                           ┆ str    ┆ f64   ┆ f64       ┆ f64   ┆ f64         ┆ i64   │\n",
       "╞═══════╪═══════════════════════════════╪════════╪═══════╪═══════════╪═══════╪═════════════╪═══════╡\n",
       "│ Tesla ┆ Cybertruck Single Motor       ┆ Pickup ┆ 7.0   ┆ 180.0     ┆ 390.0 ┆ 740.0       ┆ 45000 │\n",
       "│ Tesla ┆ Model 3 Standard Range Plus   ┆ Sedan  ┆ 5.6   ┆ 225.0     ┆ 310.0 ┆ 650.0       ┆ 46380 │\n",
       "│ Tesla ┆ Cybertruck Dual Motor         ┆ pickup ┆ 5.0   ┆ 190.0     ┆ 460.0 ┆ 710.0       ┆ 55000 │\n",
       "│ Tesla ┆ Model 3 Long Range Dual Motor ┆ Sedan  ┆ 4.6   ┆ 233.0     ┆ 450.0 ┆ 940.0       ┆ 55480 │\n",
       "│ Tesla ┆ Model Y Long Range Dual Motor ┆ SUV    ┆ 5.1   ┆ 217.0     ┆ 425.0 ┆ 930.0       ┆ 58620 │\n",
       "└───────┴───────────────────────────────┴────────┴───────┴───────────┴───────┴─────────────┴───────┘"
      ]
     },
     "execution_count": 28,
     "metadata": {},
     "output_type": "execute_result"
    }
   ],
   "source": [
    "ev_vehicle.filter(\n",
    "    (pl.col(\"price\") < 60000) & (pl.col(\"brand\") == \"Tesla\"), \n",
    ")"
   ]
  },
  {
   "cell_type": "code",
   "execution_count": 29,
   "id": "fc169d14",
   "metadata": {},
   "outputs": [
    {
     "data": {
      "text/html": [
       "<div><style>\n",
       ".dataframe > thead > tr,\n",
       ".dataframe > tbody > tr {\n",
       "  text-align: right;\n",
       "  white-space: pre-wrap;\n",
       "}\n",
       "</style>\n",
       "<small>shape: (1, 8)</small><table border=\"1\" class=\"dataframe\"><thead><tr><th>brand</th><th>model</th><th>style</th><th>accel</th><th>top_speed</th><th>range</th><th>charge_rate</th><th>price</th></tr><tr><td>u32</td><td>u32</td><td>u32</td><td>u32</td><td>u32</td><td>u32</td><td>u32</td><td>u32</td></tr></thead><tbody><tr><td>0</td><td>0</td><td>0</td><td>1</td><td>0</td><td>0</td><td>5</td><td>0</td></tr></tbody></table></div>"
      ],
      "text/plain": [
       "shape: (1, 8)\n",
       "┌───────┬───────┬───────┬───────┬───────────┬───────┬─────────────┬───────┐\n",
       "│ brand ┆ model ┆ style ┆ accel ┆ top_speed ┆ range ┆ charge_rate ┆ price │\n",
       "│ ---   ┆ ---   ┆ ---   ┆ ---   ┆ ---       ┆ ---   ┆ ---         ┆ ---   │\n",
       "│ u32   ┆ u32   ┆ u32   ┆ u32   ┆ u32       ┆ u32   ┆ u32         ┆ u32   │\n",
       "╞═══════╪═══════╪═══════╪═══════╪═══════════╪═══════╪═════════════╪═══════╡\n",
       "│ 0     ┆ 0     ┆ 0     ┆ 1     ┆ 0         ┆ 0     ┆ 5           ┆ 0     │\n",
       "└───────┴───────┴───────┴───────┴───────────┴───────┴─────────────┴───────┘"
      ]
     },
     "execution_count": 29,
     "metadata": {},
     "output_type": "execute_result"
    }
   ],
   "source": [
    "ev_vehicle.null_count()"
   ]
  },
  {
   "cell_type": "code",
   "execution_count": 30,
   "id": "294a5fd4",
   "metadata": {},
   "outputs": [
    {
     "data": {
      "text/html": [
       "<div><style>\n",
       ".dataframe > thead > tr,\n",
       ".dataframe > tbody > tr {\n",
       "  text-align: right;\n",
       "  white-space: pre-wrap;\n",
       "}\n",
       "</style>\n",
       "<small>shape: (100, 8)</small><table border=\"1\" class=\"dataframe\"><thead><tr><th>brand</th><th>model</th><th>style</th><th>accel</th><th>top_speed</th><th>range</th><th>charge_rate</th><th>price</th></tr><tr><td>str</td><td>str</td><td>str</td><td>f64</td><td>f64</td><td>f64</td><td>f64</td><td>i64</td></tr></thead><tbody><tr><td>&quot;SEAT&quot;</td><td>&quot;Mii Electric&quot;</td><td>&quot;Hatchback&quot;</td><td>12.3</td><td>130.0</td><td>195.0</td><td>170.0</td><td>20129</td></tr><tr><td>&quot;Volkswagen&quot;</td><td>&quot;e-Up!&quot;</td><td>&quot;hatchback&quot;</td><td>11.9</td><td>130.0</td><td>195.0</td><td>170.0</td><td>21421</td></tr><tr><td>&quot;Skoda&quot;</td><td>&quot;CITIGOe iV&quot;</td><td>&quot;Hatchback&quot;</td><td>12.3</td><td>130.0</td><td>195.0</td><td>170.0</td><td>24534</td></tr><tr><td>&quot;Sono&quot;</td><td>&quot;Sion&quot;</td><td>&quot;Hatchback&quot;</td><td>9.0</td><td>140.0</td><td>225.0</td><td>270.0</td><td>25500</td></tr><tr><td>&quot;Opel&quot;</td><td>&quot;Corsa-e&quot;</td><td>&quot;hatchback&quot;</td><td>8.1</td><td>150.0</td><td>275.0</td><td>420.0</td><td>29146</td></tr><tr><td>&hellip;</td><td>&hellip;</td><td>&hellip;</td><td>&hellip;</td><td>&hellip;</td><td>&hellip;</td><td>&hellip;</td><td>&hellip;</td></tr><tr><td>&quot;Porsche&quot;</td><td>&quot;Taycan Turbo&quot;</td><td>&quot;Sedan&quot;</td><td>3.2</td><td>260.0</td><td>390.0</td><td>810.0</td><td>148301</td></tr><tr><td>&quot;Lightyear&quot;</td><td>&quot;One&quot;</td><td>&quot;Liftback&quot;</td><td>10.0</td><td>150.0</td><td>575.0</td><td>540.0</td><td>149000</td></tr><tr><td>&quot;Porsche&quot;</td><td>&quot;Taycan Cross Turismo&quot;</td><td>&quot;station&quot;</td><td>3.5</td><td>250.0</td><td>385.0</td><td>770.0</td><td>150000</td></tr><tr><td>&quot;Porsche&quot;</td><td>&quot;Taycan Turbo S&quot;</td><td>&quot;sedan&quot;</td><td>2.8</td><td>260.0</td><td>375.0</td><td>780.0</td><td>180781</td></tr><tr><td>&quot;Tesla&quot;</td><td>&quot;Roadster&quot;</td><td>&quot;Cabrio&quot;</td><td>2.1</td><td>410.0</td><td>970.0</td><td>920.0</td><td>215000</td></tr></tbody></table></div>"
      ],
      "text/plain": [
       "shape: (100, 8)\n",
       "┌────────────┬──────────────────────┬───────────┬───────┬───────────┬───────┬─────────────┬────────┐\n",
       "│ brand      ┆ model                ┆ style     ┆ accel ┆ top_speed ┆ range ┆ charge_rate ┆ price  │\n",
       "│ ---        ┆ ---                  ┆ ---       ┆ ---   ┆ ---       ┆ ---   ┆ ---         ┆ ---    │\n",
       "│ str        ┆ str                  ┆ str       ┆ f64   ┆ f64       ┆ f64   ┆ f64         ┆ i64    │\n",
       "╞════════════╪══════════════════════╪═══════════╪═══════╪═══════════╪═══════╪═════════════╪════════╡\n",
       "│ SEAT       ┆ Mii Electric         ┆ Hatchback ┆ 12.3  ┆ 130.0     ┆ 195.0 ┆ 170.0       ┆ 20129  │\n",
       "│ Volkswagen ┆ e-Up!                ┆ hatchback ┆ 11.9  ┆ 130.0     ┆ 195.0 ┆ 170.0       ┆ 21421  │\n",
       "│ Skoda      ┆ CITIGOe iV           ┆ Hatchback ┆ 12.3  ┆ 130.0     ┆ 195.0 ┆ 170.0       ┆ 24534  │\n",
       "│ Sono       ┆ Sion                 ┆ Hatchback ┆ 9.0   ┆ 140.0     ┆ 225.0 ┆ 270.0       ┆ 25500  │\n",
       "│ Opel       ┆ Corsa-e              ┆ hatchback ┆ 8.1   ┆ 150.0     ┆ 275.0 ┆ 420.0       ┆ 29146  │\n",
       "│ …          ┆ …                    ┆ …         ┆ …     ┆ …         ┆ …     ┆ …           ┆ …      │\n",
       "│ Porsche    ┆ Taycan Turbo         ┆ Sedan     ┆ 3.2   ┆ 260.0     ┆ 390.0 ┆ 810.0       ┆ 148301 │\n",
       "│ Lightyear  ┆ One                  ┆ Liftback  ┆ 10.0  ┆ 150.0     ┆ 575.0 ┆ 540.0       ┆ 149000 │\n",
       "│ Porsche    ┆ Taycan Cross Turismo ┆ station   ┆ 3.5   ┆ 250.0     ┆ 385.0 ┆ 770.0       ┆ 150000 │\n",
       "│ Porsche    ┆ Taycan Turbo S       ┆ sedan     ┆ 2.8   ┆ 260.0     ┆ 375.0 ┆ 780.0       ┆ 180781 │\n",
       "│ Tesla      ┆ Roadster             ┆ Cabrio    ┆ 2.1   ┆ 410.0     ┆ 970.0 ┆ 920.0       ┆ 215000 │\n",
       "└────────────┴──────────────────────┴───────────┴───────┴───────────┴───────┴─────────────┴────────┘"
      ]
     },
     "execution_count": 30,
     "metadata": {},
     "output_type": "execute_result"
    }
   ],
   "source": [
    "ev_vehicle.drop_nulls(subset=[\"accel\",\"charge_rate\"])"
   ]
  },
  {
   "cell_type": "code",
   "execution_count": 31,
   "id": "c6730016",
   "metadata": {},
   "outputs": [
    {
     "data": {
      "text/html": [
       "<div><style>\n",
       ".dataframe > thead > tr,\n",
       ".dataframe > tbody > tr {\n",
       "  text-align: right;\n",
       "  white-space: pre-wrap;\n",
       "}\n",
       "</style>\n",
       "<small>shape: (6, 8)</small><table border=\"1\" class=\"dataframe\"><thead><tr><th>brand</th><th>model</th><th>style</th><th>accel</th><th>top_speed</th><th>range</th><th>charge_rate</th><th>price</th></tr><tr><td>str</td><td>str</td><td>str</td><td>f64</td><td>f64</td><td>f64</td><td>f64</td><td>i64</td></tr></thead><tbody><tr><td>&quot;Opel&quot;</td><td>&quot;Corsa-e&quot;</td><td>&quot;hatchback&quot;</td><td>8.1</td><td>150.0</td><td>275.0</td><td>420.0</td><td>29146</td></tr><tr><td>&quot;Opel&quot;</td><td>&quot;Corsa-e&quot;</td><td>&quot;hatchback&quot;</td><td>8.1</td><td>150.0</td><td>275.0</td><td>420.0</td><td>29146</td></tr><tr><td>&quot;Audi&quot;</td><td>&quot;e-tron 50 quattro&quot;</td><td>&quot;suv&quot;</td><td>6.8</td><td>190.0</td><td>280.0</td><td>450.0</td><td>67358</td></tr><tr><td>&quot;Audi&quot;</td><td>&quot;e-tron 50 quattro&quot;</td><td>&quot;suv&quot;</td><td>6.8</td><td>190.0</td><td>280.0</td><td>450.0</td><td>67358</td></tr><tr><td>&quot;Mercedes&quot;</td><td>&quot;EQC 400 4MATIC&quot;</td><td>&quot;suv&quot;</td><td>5.1</td><td>180.0</td><td>370.0</td><td>440.0</td><td>69484</td></tr><tr><td>&quot;Mercedes&quot;</td><td>&quot;EQC 400 4MATIC&quot;</td><td>&quot;suv&quot;</td><td>5.1</td><td>180.0</td><td>370.0</td><td>440.0</td><td>69484</td></tr></tbody></table></div>"
      ],
      "text/plain": [
       "shape: (6, 8)\n",
       "┌──────────┬───────────────────┬───────────┬───────┬───────────┬───────┬─────────────┬───────┐\n",
       "│ brand    ┆ model             ┆ style     ┆ accel ┆ top_speed ┆ range ┆ charge_rate ┆ price │\n",
       "│ ---      ┆ ---               ┆ ---       ┆ ---   ┆ ---       ┆ ---   ┆ ---         ┆ ---   │\n",
       "│ str      ┆ str               ┆ str       ┆ f64   ┆ f64       ┆ f64   ┆ f64         ┆ i64   │\n",
       "╞══════════╪═══════════════════╪═══════════╪═══════╪═══════════╪═══════╪═════════════╪═══════╡\n",
       "│ Opel     ┆ Corsa-e           ┆ hatchback ┆ 8.1   ┆ 150.0     ┆ 275.0 ┆ 420.0       ┆ 29146 │\n",
       "│ Opel     ┆ Corsa-e           ┆ hatchback ┆ 8.1   ┆ 150.0     ┆ 275.0 ┆ 420.0       ┆ 29146 │\n",
       "│ Audi     ┆ e-tron 50 quattro ┆ suv       ┆ 6.8   ┆ 190.0     ┆ 280.0 ┆ 450.0       ┆ 67358 │\n",
       "│ Audi     ┆ e-tron 50 quattro ┆ suv       ┆ 6.8   ┆ 190.0     ┆ 280.0 ┆ 450.0       ┆ 67358 │\n",
       "│ Mercedes ┆ EQC 400 4MATIC    ┆ suv       ┆ 5.1   ┆ 180.0     ┆ 370.0 ┆ 440.0       ┆ 69484 │\n",
       "│ Mercedes ┆ EQC 400 4MATIC    ┆ suv       ┆ 5.1   ┆ 180.0     ┆ 370.0 ┆ 440.0       ┆ 69484 │\n",
       "└──────────┴───────────────────┴───────────┴───────┴───────────┴───────┴─────────────┴───────┘"
      ]
     },
     "execution_count": 31,
     "metadata": {},
     "output_type": "execute_result"
    }
   ],
   "source": [
    "ev_vehicle.filter(\n",
    "    ev_vehicle.is_duplicated(),\n",
    ")"
   ]
  },
  {
   "cell_type": "code",
   "execution_count": 32,
   "id": "8f592536",
   "metadata": {},
   "outputs": [
    {
     "data": {
      "text/html": [
       "<div><style>\n",
       ".dataframe > thead > tr,\n",
       ".dataframe > tbody > tr {\n",
       "  text-align: right;\n",
       "  white-space: pre-wrap;\n",
       "}\n",
       "</style>\n",
       "<small>shape: (98, 8)</small><table border=\"1\" class=\"dataframe\"><thead><tr><th>brand</th><th>model</th><th>style</th><th>accel</th><th>top_speed</th><th>range</th><th>charge_rate</th><th>price</th></tr><tr><td>str</td><td>str</td><td>str</td><td>f64</td><td>f64</td><td>f64</td><td>f64</td><td>i64</td></tr></thead><tbody><tr><td>&quot;Volkswagen&quot;</td><td>&quot;ID.3 Pro S&quot;</td><td>&quot;hatchback&quot;</td><td>7.9</td><td>160.0</td><td>440.0</td><td>590.0</td><td>40936</td></tr><tr><td>&quot;Ford&quot;</td><td>&quot;Mustang Mach-E SR AWD&quot;</td><td>&quot;suv&quot;</td><td>6.0</td><td>180.0</td><td>340.0</td><td>360.0</td><td>54000</td></tr><tr><td>&quot;Audi&quot;</td><td>&quot;e-tron Sportback 50 quattro&quot;</td><td>&quot;suv&quot;</td><td>6.8</td><td>190.0</td><td>295.0</td><td>470.0</td><td>69551</td></tr><tr><td>&quot;Volvo&quot;</td><td>&quot;XC40 P8 AWD Recharge&quot;</td><td>&quot;SUV&quot;</td><td>4.9</td><td>180.0</td><td>375.0</td><td>470.0</td><td>60437</td></tr><tr><td>&quot;Kia&quot;</td><td>&quot;e-Niro 39 kWh&quot;</td><td>&quot;suv&quot;</td><td>9.8</td><td>155.0</td><td>235.0</td><td>230.0</td><td>34400</td></tr><tr><td>&hellip;</td><td>&hellip;</td><td>&hellip;</td><td>&hellip;</td><td>&hellip;</td><td>&hellip;</td><td>&hellip;</td><td>&hellip;</td></tr><tr><td>&quot;Lightyear&quot;</td><td>&quot;One&quot;</td><td>&quot;Liftback&quot;</td><td>10.0</td><td>150.0</td><td>575.0</td><td>540.0</td><td>149000</td></tr><tr><td>&quot;Ford&quot;</td><td>&quot;Mustang Mach-E SR RWD&quot;</td><td>&quot;SUV&quot;</td><td>6.6</td><td>180.0</td><td>360.0</td><td>380.0</td><td>46900</td></tr><tr><td>&quot;Audi&quot;</td><td>&quot;e-tron 55 quattro&quot;</td><td>&quot;SUV&quot;</td><td>5.7</td><td>200.0</td><td>365.0</td><td>590.0</td><td>79445</td></tr><tr><td>&quot;Renault&quot;</td><td>&quot;Kangoo Maxi ZE 33&quot;</td><td>&quot;SPV&quot;</td><td>22.4</td><td>130.0</td><td>160.0</td><td>null</td><td>38000</td></tr><tr><td>&quot;Tesla&quot;</td><td>&quot;Model Y Long Range Performance&quot;</td><td>&quot;SUV&quot;</td><td>3.7</td><td>241.0</td><td>410.0</td><td>900.0</td><td>65620</td></tr></tbody></table></div>"
      ],
      "text/plain": [
       "shape: (98, 8)\n",
       "┌────────────┬──────────────────────┬───────────┬───────┬───────────┬───────┬─────────────┬────────┐\n",
       "│ brand      ┆ model                ┆ style     ┆ accel ┆ top_speed ┆ range ┆ charge_rate ┆ price  │\n",
       "│ ---        ┆ ---                  ┆ ---       ┆ ---   ┆ ---       ┆ ---   ┆ ---         ┆ ---    │\n",
       "│ str        ┆ str                  ┆ str       ┆ f64   ┆ f64       ┆ f64   ┆ f64         ┆ i64    │\n",
       "╞════════════╪══════════════════════╪═══════════╪═══════╪═══════════╪═══════╪═════════════╪════════╡\n",
       "│ Volkswagen ┆ ID.3 Pro S           ┆ hatchback ┆ 7.9   ┆ 160.0     ┆ 440.0 ┆ 590.0       ┆ 40936  │\n",
       "│ Ford       ┆ Mustang Mach-E SR    ┆ suv       ┆ 6.0   ┆ 180.0     ┆ 340.0 ┆ 360.0       ┆ 54000  │\n",
       "│            ┆ AWD                  ┆           ┆       ┆           ┆       ┆             ┆        │\n",
       "│ Audi       ┆ e-tron Sportback 50  ┆ suv       ┆ 6.8   ┆ 190.0     ┆ 295.0 ┆ 470.0       ┆ 69551  │\n",
       "│            ┆ quattro              ┆           ┆       ┆           ┆       ┆             ┆        │\n",
       "│ Volvo      ┆ XC40 P8 AWD Recharge ┆ SUV       ┆ 4.9   ┆ 180.0     ┆ 375.0 ┆ 470.0       ┆ 60437  │\n",
       "│ Kia        ┆ e-Niro 39 kWh        ┆ suv       ┆ 9.8   ┆ 155.0     ┆ 235.0 ┆ 230.0       ┆ 34400  │\n",
       "│ …          ┆ …                    ┆ …         ┆ …     ┆ …         ┆ …     ┆ …           ┆ …      │\n",
       "│ Lightyear  ┆ One                  ┆ Liftback  ┆ 10.0  ┆ 150.0     ┆ 575.0 ┆ 540.0       ┆ 149000 │\n",
       "│ Ford       ┆ Mustang Mach-E SR    ┆ SUV       ┆ 6.6   ┆ 180.0     ┆ 360.0 ┆ 380.0       ┆ 46900  │\n",
       "│            ┆ RWD                  ┆           ┆       ┆           ┆       ┆             ┆        │\n",
       "│ Audi       ┆ e-tron 55 quattro    ┆ SUV       ┆ 5.7   ┆ 200.0     ┆ 365.0 ┆ 590.0       ┆ 79445  │\n",
       "│ Renault    ┆ Kangoo Maxi ZE 33    ┆ SPV       ┆ 22.4  ┆ 130.0     ┆ 160.0 ┆ null        ┆ 38000  │\n",
       "│ Tesla      ┆ Model Y Long Range   ┆ SUV       ┆ 3.7   ┆ 241.0     ┆ 410.0 ┆ 900.0       ┆ 65620  │\n",
       "│            ┆ Performance          ┆           ┆       ┆           ┆       ┆             ┆        │\n",
       "└────────────┴──────────────────────┴───────────┴───────┴───────────┴───────┴─────────────┴────────┘"
      ]
     },
     "execution_count": 32,
     "metadata": {},
     "output_type": "execute_result"
    }
   ],
   "source": [
    "ev_vehicle.unique(subset=[\"accel\",\"charge_rate\"])"
   ]
  },
  {
   "cell_type": "code",
   "execution_count": 33,
   "id": "9123477e",
   "metadata": {},
   "outputs": [
    {
     "data": {
      "text/html": [
       "<div><style>\n",
       ".dataframe > thead > tr,\n",
       ".dataframe > tbody > tr {\n",
       "  text-align: right;\n",
       "  white-space: pre-wrap;\n",
       "}\n",
       "</style>\n",
       "<small>shape: (33, 2)</small><table border=\"1\" class=\"dataframe\"><thead><tr><th>brand</th><th>count</th></tr><tr><td>str</td><td>u32</td></tr></thead><tbody><tr><td>&quot;Tesla&quot;</td><td>13</td></tr><tr><td>&quot;Audi&quot;</td><td>10</td></tr><tr><td>&quot;Volkswagen&quot;</td><td>8</td></tr><tr><td>&quot;Nissan&quot;</td><td>8</td></tr><tr><td>&quot;Skoda&quot;</td><td>6</td></tr><tr><td>&hellip;</td><td>&hellip;</td></tr><tr><td>&quot;Polestar&quot;</td><td>1</td></tr><tr><td>&quot;Volvo&quot;</td><td>1</td></tr><tr><td>&quot;Jaguar&quot;</td><td>1</td></tr><tr><td>&quot;Lucid&quot;</td><td>1</td></tr><tr><td>&quot;Lightyear&quot;</td><td>1</td></tr></tbody></table></div>"
      ],
      "text/plain": [
       "shape: (33, 2)\n",
       "┌────────────┬───────┐\n",
       "│ brand      ┆ count │\n",
       "│ ---        ┆ ---   │\n",
       "│ str        ┆ u32   │\n",
       "╞════════════╪═══════╡\n",
       "│ Tesla      ┆ 13    │\n",
       "│ Audi       ┆ 10    │\n",
       "│ Volkswagen ┆ 8     │\n",
       "│ Nissan     ┆ 8     │\n",
       "│ Skoda      ┆ 6     │\n",
       "│ …          ┆ …     │\n",
       "│ Polestar   ┆ 1     │\n",
       "│ Volvo      ┆ 1     │\n",
       "│ Jaguar     ┆ 1     │\n",
       "│ Lucid      ┆ 1     │\n",
       "│ Lightyear  ┆ 1     │\n",
       "└────────────┴───────┘"
      ]
     },
     "execution_count": 33,
     "metadata": {},
     "output_type": "execute_result"
    }
   ],
   "source": [
    "count_data = ev_vehicle[\"brand\"].value_counts(sort=True)\n",
    "count_data"
   ]
  },
  {
   "cell_type": "code",
   "execution_count": 34,
   "id": "7eb92de2",
   "metadata": {},
   "outputs": [
    {
     "data": {
      "application/vnd.plotly.v1+json": {
       "config": {
        "plotlyServerURL": "https://plot.ly"
       },
       "data": [
        {
         "hovertemplate": "brand=%{x}<br>count=%{y}<extra></extra>",
         "legendgroup": "",
         "marker": {
          "color": "#636efa",
          "pattern": {
           "shape": ""
          }
         },
         "name": "",
         "orientation": "v",
         "showlegend": false,
         "textposition": "auto",
         "type": "bar",
         "x": [
          "Tesla",
          "Audi",
          "Volkswagen",
          "Nissan",
          "Skoda",
          "Renault",
          "Kia",
          "Porsche",
          "Opel",
          "BMW",
          "Mercedes",
          "Ford",
          "Smart",
          "Hyundai",
          "Byton",
          "Peugeot",
          "Honda",
          "Fiat",
          "SEAT",
          "Sono",
          "MG",
          "Mini",
          "Mazda",
          "Aiways",
          "DS",
          "Citroen",
          "CUPRA",
          "Lexus",
          "Polestar",
          "Volvo",
          "Jaguar",
          "Lucid",
          "Lightyear"
         ],
         "xaxis": "x",
         "y": {
          "bdata": "DQAAAAoAAAAIAAAACAAAAAYAAAAFAAAABQAAAAUAAAAEAAAABAAAAAQAAAAEAAAAAwAAAAMAAAADAAAAAgAAAAIAAAACAAAAAQAAAAEAAAABAAAAAQAAAAEAAAABAAAAAQAAAAEAAAABAAAAAQAAAAEAAAABAAAAAQAAAAEAAAABAAAA",
          "dtype": "u4"
         },
         "yaxis": "y"
        }
       ],
       "layout": {
        "barmode": "relative",
        "legend": {
         "tracegroupgap": 0
        },
        "template": {
         "data": {
          "bar": [
           {
            "error_x": {
             "color": "#2a3f5f"
            },
            "error_y": {
             "color": "#2a3f5f"
            },
            "marker": {
             "line": {
              "color": "#E5ECF6",
              "width": 0.5
             },
             "pattern": {
              "fillmode": "overlay",
              "size": 10,
              "solidity": 0.2
             }
            },
            "type": "bar"
           }
          ],
          "barpolar": [
           {
            "marker": {
             "line": {
              "color": "#E5ECF6",
              "width": 0.5
             },
             "pattern": {
              "fillmode": "overlay",
              "size": 10,
              "solidity": 0.2
             }
            },
            "type": "barpolar"
           }
          ],
          "carpet": [
           {
            "aaxis": {
             "endlinecolor": "#2a3f5f",
             "gridcolor": "white",
             "linecolor": "white",
             "minorgridcolor": "white",
             "startlinecolor": "#2a3f5f"
            },
            "baxis": {
             "endlinecolor": "#2a3f5f",
             "gridcolor": "white",
             "linecolor": "white",
             "minorgridcolor": "white",
             "startlinecolor": "#2a3f5f"
            },
            "type": "carpet"
           }
          ],
          "choropleth": [
           {
            "colorbar": {
             "outlinewidth": 0,
             "ticks": ""
            },
            "type": "choropleth"
           }
          ],
          "contour": [
           {
            "colorbar": {
             "outlinewidth": 0,
             "ticks": ""
            },
            "colorscale": [
             [
              0,
              "#0d0887"
             ],
             [
              0.1111111111111111,
              "#46039f"
             ],
             [
              0.2222222222222222,
              "#7201a8"
             ],
             [
              0.3333333333333333,
              "#9c179e"
             ],
             [
              0.4444444444444444,
              "#bd3786"
             ],
             [
              0.5555555555555556,
              "#d8576b"
             ],
             [
              0.6666666666666666,
              "#ed7953"
             ],
             [
              0.7777777777777778,
              "#fb9f3a"
             ],
             [
              0.8888888888888888,
              "#fdca26"
             ],
             [
              1,
              "#f0f921"
             ]
            ],
            "type": "contour"
           }
          ],
          "contourcarpet": [
           {
            "colorbar": {
             "outlinewidth": 0,
             "ticks": ""
            },
            "type": "contourcarpet"
           }
          ],
          "heatmap": [
           {
            "colorbar": {
             "outlinewidth": 0,
             "ticks": ""
            },
            "colorscale": [
             [
              0,
              "#0d0887"
             ],
             [
              0.1111111111111111,
              "#46039f"
             ],
             [
              0.2222222222222222,
              "#7201a8"
             ],
             [
              0.3333333333333333,
              "#9c179e"
             ],
             [
              0.4444444444444444,
              "#bd3786"
             ],
             [
              0.5555555555555556,
              "#d8576b"
             ],
             [
              0.6666666666666666,
              "#ed7953"
             ],
             [
              0.7777777777777778,
              "#fb9f3a"
             ],
             [
              0.8888888888888888,
              "#fdca26"
             ],
             [
              1,
              "#f0f921"
             ]
            ],
            "type": "heatmap"
           }
          ],
          "histogram": [
           {
            "marker": {
             "pattern": {
              "fillmode": "overlay",
              "size": 10,
              "solidity": 0.2
             }
            },
            "type": "histogram"
           }
          ],
          "histogram2d": [
           {
            "colorbar": {
             "outlinewidth": 0,
             "ticks": ""
            },
            "colorscale": [
             [
              0,
              "#0d0887"
             ],
             [
              0.1111111111111111,
              "#46039f"
             ],
             [
              0.2222222222222222,
              "#7201a8"
             ],
             [
              0.3333333333333333,
              "#9c179e"
             ],
             [
              0.4444444444444444,
              "#bd3786"
             ],
             [
              0.5555555555555556,
              "#d8576b"
             ],
             [
              0.6666666666666666,
              "#ed7953"
             ],
             [
              0.7777777777777778,
              "#fb9f3a"
             ],
             [
              0.8888888888888888,
              "#fdca26"
             ],
             [
              1,
              "#f0f921"
             ]
            ],
            "type": "histogram2d"
           }
          ],
          "histogram2dcontour": [
           {
            "colorbar": {
             "outlinewidth": 0,
             "ticks": ""
            },
            "colorscale": [
             [
              0,
              "#0d0887"
             ],
             [
              0.1111111111111111,
              "#46039f"
             ],
             [
              0.2222222222222222,
              "#7201a8"
             ],
             [
              0.3333333333333333,
              "#9c179e"
             ],
             [
              0.4444444444444444,
              "#bd3786"
             ],
             [
              0.5555555555555556,
              "#d8576b"
             ],
             [
              0.6666666666666666,
              "#ed7953"
             ],
             [
              0.7777777777777778,
              "#fb9f3a"
             ],
             [
              0.8888888888888888,
              "#fdca26"
             ],
             [
              1,
              "#f0f921"
             ]
            ],
            "type": "histogram2dcontour"
           }
          ],
          "mesh3d": [
           {
            "colorbar": {
             "outlinewidth": 0,
             "ticks": ""
            },
            "type": "mesh3d"
           }
          ],
          "parcoords": [
           {
            "line": {
             "colorbar": {
              "outlinewidth": 0,
              "ticks": ""
             }
            },
            "type": "parcoords"
           }
          ],
          "pie": [
           {
            "automargin": true,
            "type": "pie"
           }
          ],
          "scatter": [
           {
            "fillpattern": {
             "fillmode": "overlay",
             "size": 10,
             "solidity": 0.2
            },
            "type": "scatter"
           }
          ],
          "scatter3d": [
           {
            "line": {
             "colorbar": {
              "outlinewidth": 0,
              "ticks": ""
             }
            },
            "marker": {
             "colorbar": {
              "outlinewidth": 0,
              "ticks": ""
             }
            },
            "type": "scatter3d"
           }
          ],
          "scattercarpet": [
           {
            "marker": {
             "colorbar": {
              "outlinewidth": 0,
              "ticks": ""
             }
            },
            "type": "scattercarpet"
           }
          ],
          "scattergeo": [
           {
            "marker": {
             "colorbar": {
              "outlinewidth": 0,
              "ticks": ""
             }
            },
            "type": "scattergeo"
           }
          ],
          "scattergl": [
           {
            "marker": {
             "colorbar": {
              "outlinewidth": 0,
              "ticks": ""
             }
            },
            "type": "scattergl"
           }
          ],
          "scattermap": [
           {
            "marker": {
             "colorbar": {
              "outlinewidth": 0,
              "ticks": ""
             }
            },
            "type": "scattermap"
           }
          ],
          "scattermapbox": [
           {
            "marker": {
             "colorbar": {
              "outlinewidth": 0,
              "ticks": ""
             }
            },
            "type": "scattermapbox"
           }
          ],
          "scatterpolar": [
           {
            "marker": {
             "colorbar": {
              "outlinewidth": 0,
              "ticks": ""
             }
            },
            "type": "scatterpolar"
           }
          ],
          "scatterpolargl": [
           {
            "marker": {
             "colorbar": {
              "outlinewidth": 0,
              "ticks": ""
             }
            },
            "type": "scatterpolargl"
           }
          ],
          "scatterternary": [
           {
            "marker": {
             "colorbar": {
              "outlinewidth": 0,
              "ticks": ""
             }
            },
            "type": "scatterternary"
           }
          ],
          "surface": [
           {
            "colorbar": {
             "outlinewidth": 0,
             "ticks": ""
            },
            "colorscale": [
             [
              0,
              "#0d0887"
             ],
             [
              0.1111111111111111,
              "#46039f"
             ],
             [
              0.2222222222222222,
              "#7201a8"
             ],
             [
              0.3333333333333333,
              "#9c179e"
             ],
             [
              0.4444444444444444,
              "#bd3786"
             ],
             [
              0.5555555555555556,
              "#d8576b"
             ],
             [
              0.6666666666666666,
              "#ed7953"
             ],
             [
              0.7777777777777778,
              "#fb9f3a"
             ],
             [
              0.8888888888888888,
              "#fdca26"
             ],
             [
              1,
              "#f0f921"
             ]
            ],
            "type": "surface"
           }
          ],
          "table": [
           {
            "cells": {
             "fill": {
              "color": "#EBF0F8"
             },
             "line": {
              "color": "white"
             }
            },
            "header": {
             "fill": {
              "color": "#C8D4E3"
             },
             "line": {
              "color": "white"
             }
            },
            "type": "table"
           }
          ]
         },
         "layout": {
          "annotationdefaults": {
           "arrowcolor": "#2a3f5f",
           "arrowhead": 0,
           "arrowwidth": 1
          },
          "autotypenumbers": "strict",
          "coloraxis": {
           "colorbar": {
            "outlinewidth": 0,
            "ticks": ""
           }
          },
          "colorscale": {
           "diverging": [
            [
             0,
             "#8e0152"
            ],
            [
             0.1,
             "#c51b7d"
            ],
            [
             0.2,
             "#de77ae"
            ],
            [
             0.3,
             "#f1b6da"
            ],
            [
             0.4,
             "#fde0ef"
            ],
            [
             0.5,
             "#f7f7f7"
            ],
            [
             0.6,
             "#e6f5d0"
            ],
            [
             0.7,
             "#b8e186"
            ],
            [
             0.8,
             "#7fbc41"
            ],
            [
             0.9,
             "#4d9221"
            ],
            [
             1,
             "#276419"
            ]
           ],
           "sequential": [
            [
             0,
             "#0d0887"
            ],
            [
             0.1111111111111111,
             "#46039f"
            ],
            [
             0.2222222222222222,
             "#7201a8"
            ],
            [
             0.3333333333333333,
             "#9c179e"
            ],
            [
             0.4444444444444444,
             "#bd3786"
            ],
            [
             0.5555555555555556,
             "#d8576b"
            ],
            [
             0.6666666666666666,
             "#ed7953"
            ],
            [
             0.7777777777777778,
             "#fb9f3a"
            ],
            [
             0.8888888888888888,
             "#fdca26"
            ],
            [
             1,
             "#f0f921"
            ]
           ],
           "sequentialminus": [
            [
             0,
             "#0d0887"
            ],
            [
             0.1111111111111111,
             "#46039f"
            ],
            [
             0.2222222222222222,
             "#7201a8"
            ],
            [
             0.3333333333333333,
             "#9c179e"
            ],
            [
             0.4444444444444444,
             "#bd3786"
            ],
            [
             0.5555555555555556,
             "#d8576b"
            ],
            [
             0.6666666666666666,
             "#ed7953"
            ],
            [
             0.7777777777777778,
             "#fb9f3a"
            ],
            [
             0.8888888888888888,
             "#fdca26"
            ],
            [
             1,
             "#f0f921"
            ]
           ]
          },
          "colorway": [
           "#636efa",
           "#EF553B",
           "#00cc96",
           "#ab63fa",
           "#FFA15A",
           "#19d3f3",
           "#FF6692",
           "#B6E880",
           "#FF97FF",
           "#FECB52"
          ],
          "font": {
           "color": "#2a3f5f"
          },
          "geo": {
           "bgcolor": "white",
           "lakecolor": "white",
           "landcolor": "#E5ECF6",
           "showlakes": true,
           "showland": true,
           "subunitcolor": "white"
          },
          "hoverlabel": {
           "align": "left"
          },
          "hovermode": "closest",
          "mapbox": {
           "style": "light"
          },
          "paper_bgcolor": "white",
          "plot_bgcolor": "#E5ECF6",
          "polar": {
           "angularaxis": {
            "gridcolor": "white",
            "linecolor": "white",
            "ticks": ""
           },
           "bgcolor": "#E5ECF6",
           "radialaxis": {
            "gridcolor": "white",
            "linecolor": "white",
            "ticks": ""
           }
          },
          "scene": {
           "xaxis": {
            "backgroundcolor": "#E5ECF6",
            "gridcolor": "white",
            "gridwidth": 2,
            "linecolor": "white",
            "showbackground": true,
            "ticks": "",
            "zerolinecolor": "white"
           },
           "yaxis": {
            "backgroundcolor": "#E5ECF6",
            "gridcolor": "white",
            "gridwidth": 2,
            "linecolor": "white",
            "showbackground": true,
            "ticks": "",
            "zerolinecolor": "white"
           },
           "zaxis": {
            "backgroundcolor": "#E5ECF6",
            "gridcolor": "white",
            "gridwidth": 2,
            "linecolor": "white",
            "showbackground": true,
            "ticks": "",
            "zerolinecolor": "white"
           }
          },
          "shapedefaults": {
           "line": {
            "color": "#2a3f5f"
           }
          },
          "ternary": {
           "aaxis": {
            "gridcolor": "white",
            "linecolor": "white",
            "ticks": ""
           },
           "baxis": {
            "gridcolor": "white",
            "linecolor": "white",
            "ticks": ""
           },
           "bgcolor": "#E5ECF6",
           "caxis": {
            "gridcolor": "white",
            "linecolor": "white",
            "ticks": ""
           }
          },
          "title": {
           "x": 0.05
          },
          "xaxis": {
           "automargin": true,
           "gridcolor": "white",
           "linecolor": "white",
           "ticks": "",
           "title": {
            "standoff": 15
           },
           "zerolinecolor": "white",
           "zerolinewidth": 2
          },
          "yaxis": {
           "automargin": true,
           "gridcolor": "white",
           "linecolor": "white",
           "ticks": "",
           "title": {
            "standoff": 15
           },
           "zerolinecolor": "white",
           "zerolinewidth": 2
          }
         }
        },
        "title": {
         "text": "Count of EV Brand"
        },
        "xaxis": {
         "anchor": "y",
         "domain": [
          0,
          1
         ],
         "title": {
          "text": "brand"
         }
        },
        "yaxis": {
         "anchor": "x",
         "domain": [
          0,
          1
         ],
         "title": {
          "text": "count"
         }
        }
       }
      }
     },
     "metadata": {},
     "output_type": "display_data"
    }
   ],
   "source": [
    "px.bar(count_data, x=\"brand\", y=\"count\", title=\"Count of EV Brand\")\n"
   ]
  }
 ],
 "metadata": {
  "kernelspec": {
   "display_name": "Python 3",
   "language": "python",
   "name": "python3"
  },
  "language_info": {
   "codemirror_mode": {
    "name": "ipython",
    "version": 3
   },
   "file_extension": ".py",
   "mimetype": "text/x-python",
   "name": "python",
   "nbconvert_exporter": "python",
   "pygments_lexer": "ipython3",
   "version": "3.13.0"
  }
 },
 "nbformat": 4,
 "nbformat_minor": 5
}
